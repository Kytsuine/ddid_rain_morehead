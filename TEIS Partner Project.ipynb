{
 "cells": [
  {
   "cell_type": "code",
   "execution_count": null,
   "id": "c2eed42a",
   "metadata": {},
   "outputs": [],
   "source": [
    "import pandas as pd\n",
    "import matplotlib.pyplot as plt\n",
    "import matplotlib as mpl\n",
    "from matplotlib.colors import ListedColormap\n",
    "import geopandas as gpd\n",
    "%matplotlib inline\n",
    "mpl.rcParams ['text.color'] = 'red'\n",
    "pd.set_option('display.max_columns', None) ## Removes the ellipsis hiding some columns. Will cause scrolling."
   ]
  },
  {
   "cell_type": "code",
   "execution_count": null,
   "id": "30bb7c37",
   "metadata": {},
   "outputs": [],
   "source": [
    "#tn_trends_by_ss = pd.read_excel('./AEPSi Data for NSS.xlsx')\n",
    "#tn_trends_by_ss.head()"
   ]
  },
  {
   "cell_type": "code",
   "execution_count": null,
   "id": "40d899b2",
   "metadata": {},
   "outputs": [],
   "source": [
    "#aeps_to_eco_crosswalk = pd.read_excel('./AEPSi Data for NSS.xlsx', 1)\n",
    "#aeps_to_eco_crosswalk.head()"
   ]
  },
  {
   "cell_type": "code",
   "execution_count": null,
   "id": "d16b128e",
   "metadata": {},
   "outputs": [],
   "source": [
    "#poe_data_20_21 = pd.read_excel('./AEPSi Data for NSS.xlsx', 3)\n",
    "#poe_data_20_21.head()"
   ]
  },
  {
   "cell_type": "code",
   "execution_count": null,
   "id": "a28528a4",
   "metadata": {},
   "outputs": [],
   "source": [
    "#eco_with_exit_20_21 = pd.read_excel('./AEPSi Data for NSS.xlsx', 4)\n",
    "#eco_with_exit_20_21.head()"
   ]
  },
  {
   "cell_type": "code",
   "execution_count": null,
   "id": "b099ebbb",
   "metadata": {},
   "outputs": [],
   "source": [
    "#poe_data_21_22 = pd.read_excel('./AEPSi Data for NSS.xlsx', 5)\n",
    "#poe_data_21_22.head()"
   ]
  },
  {
   "cell_type": "code",
   "execution_count": null,
   "id": "7a8801a9",
   "metadata": {},
   "outputs": [],
   "source": [
    "#eco_with_exit_21_22 = pd.read_excel('./AEPSi Data for NSS.xlsx', 6)\n",
    "#eco_with_exit_21_22.head()"
   ]
  },
  {
   "cell_type": "code",
   "execution_count": null,
   "id": "9545041b",
   "metadata": {
    "scrolled": false
   },
   "outputs": [],
   "source": [
    "aeps = pd.read_csv(\n",
    "    \"./data/cleaned_AEPS.csv\") ## Big tall ugly command cuts down columns to just the ones we might need. \n",
    "aeps.head()"
   ]
  },
  {
   "cell_type": "code",
   "execution_count": null,
   "id": "98f1b6fc",
   "metadata": {},
   "outputs": [],
   "source": [
    "aeps_temp = aeps\n",
    "#aeps = aeps_temp\n",
    "#Use as needed in testing to avoid re-importing the excel sheet. Avoids long datetime conversion."
   ]
  },
  {
   "cell_type": "code",
   "execution_count": null,
   "id": "ea20fb6b",
   "metadata": {},
   "outputs": [],
   "source": [
    "#aeps.iloc[17927]\n",
    "#aeps.head()\n",
    "# A bit more exploration that isn't needed or relevant."
   ]
  },
  {
   "cell_type": "code",
   "execution_count": null,
   "id": "829948c0",
   "metadata": {},
   "outputs": [],
   "source": [
    "#aeps = aeps.applymap(lambda x: x.strip() if isinstance(x, str) else x) ## Strips all strings in dataframe\n",
    "#aeps = aeps.drop(aeps.index[17926:17959]) ## Removes empty and illogical child id's at end of dataframe\n",
    "#aeps = aeps.drop([0, 7, 1393, 17774]) ## Removes a few more illogical child id's and one row full of null values\n",
    "#aeps = aeps.drop_duplicates(subset='AssessID') ## Removes duplicate assessment results"
   ]
  },
  {
   "cell_type": "code",
   "execution_count": null,
   "id": "ccb0067f",
   "metadata": {},
   "outputs": [],
   "source": [
    "#aeps['child_id'] = aeps['Child ID'].astype(int)"
   ]
  },
  {
   "cell_type": "code",
   "execution_count": null,
   "id": "6105d716",
   "metadata": {},
   "outputs": [],
   "source": [
    "#aeps['dob'] = pd.to_datetime(aeps['DOB'], errors='coerce') ## errors='coerce' causes errors to be entered as 'NaT'\n",
    "#aeps['test_date'] = pd.to_datetime(aeps['Test Date'], errors='coerce')"
   ]
  },
  {
   "cell_type": "code",
   "execution_count": null,
   "id": "9cabcf23",
   "metadata": {},
   "outputs": [],
   "source": [
    "#aeps['age_at_test'] = aeps['test_date'] - aeps['dob']\n",
    "#aeps.head()"
   ]
  },
  {
   "cell_type": "code",
   "execution_count": null,
   "id": "a9b2fffb",
   "metadata": {},
   "outputs": [],
   "source": [
    "#aeps['test_number'] = aeps.groupby('child_id').age_at_test.rank()\n",
    "#aeps.head()"
   ]
  },
  {
   "cell_type": "code",
   "execution_count": null,
   "id": "cb8442d9",
   "metadata": {},
   "outputs": [],
   "source": [
    "\"\"\"aeps['examiner'] = aeps['Examiner'].str.replace(\n",
    "    r\"\\;.*\",\"\"\n",
    "    ).str.replace(\n",
    "    r\",.*\",\"\"\n",
    "    ).str.replace(\n",
    "    r\"\\/.*\",\"\"\n",
    "    ).str.replace(\n",
    "    r\"\\:\",\"\"\n",
    "    ).str.lower()\n",
    "aeps.head()\"\"\""
   ]
  },
  {
   "cell_type": "code",
   "execution_count": null,
   "id": "7d76e249",
   "metadata": {},
   "outputs": [],
   "source": [
    "#import numpy as np\n",
    "#lengths = aeps['examiner'].str.len()\n",
    "#argmax = np.where(lengths == lengths.max())[0]\n",
    "#aeps.iloc[argmax] ## StackOverflow code to give the longest string in a column. Basically, makes a list of all the string lengths, gives the number/s of all the ones that are at max length, then iloc's that number."
   ]
  },
  {
   "cell_type": "code",
   "execution_count": null,
   "id": "e1d8dc79",
   "metadata": {},
   "outputs": [],
   "source": [
    "##caution! Shows all rows! Use only in need (like now)!\n",
    "pd.set_option('display.max_rows', None)\n",
    "print(aeps.examiner.value_counts())\n",
    "pd.set_option('display.max_rows', 10)"
   ]
  },
  {
   "cell_type": "code",
   "execution_count": null,
   "id": "3740136f",
   "metadata": {},
   "outputs": [],
   "source": [
    "pd.set_option('display.max_rows', None)\n",
    "print(aeps['County of Residence'].value_counts())\n",
    "pd.set_option('display.max_rows', 10)"
   ]
  },
  {
   "cell_type": "code",
   "execution_count": null,
   "id": "0527bae3",
   "metadata": {},
   "outputs": [],
   "source": [
    "aeps['county'] = aeps['County of Residence'].str.replace(\n",
    "    r\"County.*\",\"\"\n",
    "    ).str.replace(\n",
    "    r\"county.*\",\"\"\n",
    "    ).str.replace(\n",
    "    r\"Co\\ .*\",\"\"\n",
    "    ).str.replace(\n",
    "    r\"Co\\..*\",\"\"\n",
    "    ).str.replace(\n",
    "    r\"\\/\",\"\"\n",
    "    ).str.replace(\n",
    "    r\"u\\..*\",\"none\"\n",
    "    ).str.replace(\n",
    "    r\"U\\..*\",\"none\"\n",
    "    ).str.replace(\n",
    "    r\"USA\",\"none\"\n",
    "    ).str.replace(\n",
    "    r\"Jefferson Co*\",\"jefferson\"\n",
    "    ).str.replace(\n",
    "    r\"Memphis\",\"shelby\"\n",
    "    ).str.replace(\n",
    "    r\"hawkins co\",\"hawkins\"\n",
    "    ).str.replace(\n",
    "    r\"Moscow\",\"fayette\"\n",
    "    ).str.replace(\n",
    "    r\"Washignton\",\"washington\"\n",
    "    ).str.replace(\n",
    "    r\"Washinton\",\"washington\"\n",
    "    ).str.replace(\n",
    "    r\"Columbia\",\"maury\"\n",
    "    ).str.replace(\n",
    "    r\"Rutherfordford\",\"rutherford\"\n",
    "    ).str.replace(\n",
    "    r\"LAW\",\"lawrence\"\n",
    "    ).str.replace(\n",
    "    r\"Shebly\",\"shelby\"\n",
    "    ).str.replace(\n",
    "    r\"Shleby\",\"shelby\"\n",
    "    ).str.replace(\n",
    "    r\"Erwin\",\"unicoi\"\n",
    "    ).str.replace(\n",
    "    r\"Murfreesboro\",\"rutherford\"\n",
    "    ).str.replace(\n",
    "    r\"Steven Scarlett\",\"none\"\n",
    "    ).str.replace(\n",
    "    r\"Allison Eblin\",\"none\"\n",
    "    ).str.replace(\n",
    "    r\"union-knox\",\"union\"\n",
    "    ).str.replace(\n",
    "    r\"Jullia Holly\",\"none\"\n",
    "    ).str.replace(\n",
    "    r\"Mauty\",\"maury\"\n",
    "    ).str.replace(\n",
    "    r\"Cannon Warren\",\"cannon\"\n",
    "    ).str.replace(\n",
    "    r\"Hancocok\",\"hancock\"\n",
    "    ).str.replace(\n",
    "    r\"Clairborne\",\"claiborne\"\n",
    "    ).str.replace(\n",
    "    r\"Hederson\",\"henderson\"\n",
    "    ).str.replace(\n",
    "    r\"Rutheford\",\"rutherford\"\n",
    "    ).str.replace(\n",
    "    r\"Shelbey\",\"shelby\"\n",
    "    ).str.replace(\n",
    "    r\"Knos\",\"knox\"\n",
    "    ).str.replace(\n",
    "    r\"Wiliamson\",\"williamson\"\n",
    "    ).str.replace(\n",
    "    r\"Huntingdon\",\"carroll\"\n",
    "    ).str.replace(\n",
    "    r\"Sheby\",\"shelby\"\n",
    "    ).str.replace(\n",
    "    r\"Count\",\"none\"\n",
    "    ).str.replace(\n",
    "    r\"Seveir\",\"sevier\"\n",
    "    ).str.replace(\n",
    "    r\"Ashley Cozad\",\"none\"\n",
    "    ).str.replace(\n",
    "    r\"Cambpell\",\"campbell\"\n",
    "    ).str.replace(\n",
    "    r\"Wislon\",\"wilson\"\n",
    "    ).str.replace(\n",
    "    r\"Knox Co\",\"knox\"\n",
    "    ).str.replace(\n",
    "    r\"Sevier Co\",\"sevier\"\n",
    "    ).str.replace(\n",
    "    r\"Greeneville\",\"greene\"\n",
    "    ).str.replace(\n",
    "    r\"Chuckey\",\"greene\"\n",
    "    ).str.strip().str.lower()"
   ]
  },
  {
   "cell_type": "code",
   "execution_count": null,
   "id": "7b0ce31f",
   "metadata": {},
   "outputs": [],
   "source": [
    "# Rejected regexes\n",
    "#    ).str.replace(\n",
    "#    r\"S\",\"none\"\n",
    "#    ).str.replace(\n",
    "#    r\"David\",\"davidson\"\n",
    "#    ).str.replace(\n",
    "#    r\"Was\",\"washington\"\n",
    "#    ).str.replace(\n",
    "#    r\"Washin\",\"washington\"\n",
    "#    ).str.replace(\n",
    "#    r\"Sull\",\"sullivan\"\n",
    "#    ).str.replace(\n",
    "#    r\"Gree\",\"greene\"\n",
    "#    ).str.replace(\n",
    "#    r\"Robert\",\"robertson\""
   ]
  },
  {
   "cell_type": "code",
   "execution_count": null,
   "id": "acb7b2d0",
   "metadata": {},
   "outputs": [],
   "source": [
    "pd.set_option('display.max_rows', None)\n",
    "pd.set_option('display.max_columns', None)\n",
    "print(aeps['county'].value_counts())\n",
    "pd.set_option('display.max_rows', 10)\n",
    "pd.set_option('display.max_columns', None)"
   ]
  },
  {
   "cell_type": "code",
   "execution_count": null,
   "id": "70c5cbc5",
   "metadata": {},
   "outputs": [],
   "source": [
    "pd.set_option('display.max_rows', None)\n",
    "pd.set_option('display.max_columns', None)\n",
    "print(pd.crosstab(aeps['county'], aeps['TEIS Point of Entry Office (POE)']))\n",
    "pd.set_option('display.max_rows', 10)\n",
    "pd.set_option('display.max_columns', None)"
   ]
  },
  {
   "cell_type": "code",
   "execution_count": null,
   "id": "6e5bc214",
   "metadata": {},
   "outputs": [],
   "source": [
    "poes = aeps[['TEIS Point of Entry Office (POE)', 'county']]"
   ]
  },
  {
   "cell_type": "code",
   "execution_count": null,
   "id": "7cc88ffa",
   "metadata": {},
   "outputs": [],
   "source": [
    "poes.columns =['poe','county']"
   ]
  },
  {
   "cell_type": "code",
   "execution_count": null,
   "id": "324255c0",
   "metadata": {},
   "outputs": [],
   "source": [
    "poes.head()"
   ]
  },
  {
   "cell_type": "code",
   "execution_count": null,
   "id": "23d91dac",
   "metadata": {},
   "outputs": [],
   "source": [
    "poes['county_count'] = poes.groupby(['poe', 'county'])['county'].transform('count')"
   ]
  },
  {
   "cell_type": "code",
   "execution_count": null,
   "id": "e188e96e",
   "metadata": {},
   "outputs": [],
   "source": [
    "pd.set_option('display.max_rows', None)\n",
    "print(poes.sort_values(by='county').drop_duplicates())\n",
    "pd.set_option('display.max_rows', 10)"
   ]
  },
  {
   "cell_type": "code",
   "execution_count": null,
   "id": "616ecf2a",
   "metadata": {},
   "outputs": [],
   "source": [
    "poes = poes.sort_values('county_count', ascending=False).drop_duplicates('county').sort_index()"
   ]
  },
  {
   "cell_type": "code",
   "execution_count": null,
   "id": "7724faaf",
   "metadata": {},
   "outputs": [],
   "source": [
    "pd.set_option('display.max_rows', None)\n",
    "print(poes.sort_values(by='county').drop_duplicates())\n",
    "pd.set_option('display.max_rows', 10)"
   ]
  },
  {
   "cell_type": "code",
   "execution_count": null,
   "id": "14cf0aea",
   "metadata": {},
   "outputs": [],
   "source": [
    "poes = poes.drop('county_count', axis=1)"
   ]
  },
  {
   "cell_type": "code",
   "execution_count": null,
   "id": "bc7e32e1",
   "metadata": {},
   "outputs": [],
   "source": [
    "counties = gpd.read_file('../../data/county/tncounty.shp')"
   ]
  },
  {
   "cell_type": "code",
   "execution_count": null,
   "id": "ea23a9b6",
   "metadata": {},
   "outputs": [],
   "source": [
    "counties['NAME'] = counties.NAME.str.lower()"
   ]
  },
  {
   "cell_type": "code",
   "execution_count": null,
   "id": "8e2a88ad",
   "metadata": {},
   "outputs": [],
   "source": [
    "pd.set_option('display.max_rows', None)\n",
    "print(counties)\n",
    "pd.set_option('display.max_rows', 10)"
   ]
  },
  {
   "cell_type": "code",
   "execution_count": null,
   "id": "a84baf36",
   "metadata": {},
   "outputs": [],
   "source": [
    "poes['county'] = poes.county.str.lower().str.strip()"
   ]
  },
  {
   "cell_type": "code",
   "execution_count": null,
   "id": "9f2501a8",
   "metadata": {},
   "outputs": [],
   "source": [
    "poes.head(10)"
   ]
  },
  {
   "cell_type": "code",
   "execution_count": null,
   "id": "3d24c508",
   "metadata": {},
   "outputs": [],
   "source": [
    "poe_shapes = counties.merge(poes, left_on='NAME', right_on = 'county',  how='left')"
   ]
  },
  {
   "cell_type": "code",
   "execution_count": null,
   "id": "1c5a73be",
   "metadata": {},
   "outputs": [],
   "source": [
    "pd.set_option('display.max_rows', None)\n",
    "print(poe_shapes.sort_values(by='poe'))\n",
    "pd.set_option('display.max_rows', 10)"
   ]
  },
  {
   "cell_type": "code",
   "execution_count": null,
   "id": "db7494bd",
   "metadata": {},
   "outputs": [],
   "source": [
    "def boundary_generator(string):\n",
    "    polygons = poe_shapes.loc[(poe_shapes['poe'] == string)]\n",
    "    polygons = polygons['geometry'].unary_union\n",
    "    return polygons"
   ]
  },
  {
   "cell_type": "code",
   "execution_count": null,
   "id": "c3190562",
   "metadata": {},
   "outputs": [],
   "source": [
    "poe_shapes.poe.unique()"
   ]
  },
  {
   "cell_type": "code",
   "execution_count": null,
   "id": "c73bdf19",
   "metadata": {},
   "outputs": [],
   "source": [
    "sw_tn_shape = boundary_generator('Southwest Tennessee')\n",
    "sc_tn_shape = boundary_generator('Southcentral Tennessee')\n",
    "se_tn_shape = boundary_generator('Southeast Tennessee')\n",
    "nw_tn_shape = boundary_generator('Northwest Tennessee')\n",
    "gn_tn_shape = boundary_generator('Greater Nashville Tennessee')\n",
    "uc_tn_shape = boundary_generator('Upper Cumberland Tennessee')\n",
    "ft_tn_shape = boundary_generator('First Tennessee')\n",
    "e_tn_shape = boundary_generator('East Tennessee')\n",
    "md_tn_shape = boundary_generator('Memphis/Delta Tennessee')"
   ]
  },
  {
   "cell_type": "code",
   "execution_count": null,
   "id": "70410b11",
   "metadata": {},
   "outputs": [],
   "source": [
    "data = {'poe': [\n",
    "                            'Southwest Tennessee', 'Southcentral Tennessee', 'Southeast Tennessee', \"Northwest Tennessee\",\n",
    "                            \"Greater Nashville Tennessee\", \"Upper Cumberland Tennessee\", \"First Tennessee\",\n",
    "                            \"East Tennessee\", \"Memphis/Delta Tennessee\"\n",
    "                           ],\n",
    "        'geometry': [\n",
    "                     sw_tn_shape, sc_tn_shape, se_tn_shape,\n",
    "                     nw_tn_shape, gn_tn_shape, uc_tn_shape,\n",
    "                     ft_tn_shape, e_tn_shape,\n",
    "                     md_tn_shape\n",
    "                    ],\n",
    "       'code':[\n",
    "               1,2,3,4,5,6,7,8,9\n",
    "              ],\n",
    "       }"
   ]
  },
  {
   "cell_type": "code",
   "execution_count": null,
   "id": "d7123f86",
   "metadata": {},
   "outputs": [],
   "source": [
    "poe_geometry = pd.DataFrame(data)"
   ]
  },
  {
   "cell_type": "code",
   "execution_count": null,
   "id": "2a58a305",
   "metadata": {},
   "outputs": [],
   "source": [
    "poe_data = gpd.GeoDataFrame(poe_geometry, crs='epsg:4326')"
   ]
  },
  {
   "cell_type": "code",
   "execution_count": null,
   "id": "2eb880d3",
   "metadata": {},
   "outputs": [],
   "source": [
    "poe_data.head(10)"
   ]
  },
  {
   "cell_type": "code",
   "execution_count": null,
   "id": "d2b70946",
   "metadata": {},
   "outputs": [],
   "source": [
    "fig, ax = plt.subplots(figsize=(16,4))\n",
    "poe_data.plot(ax = ax, aspect = 1, column = 'poe',\n",
    "              edgecolor = 'black',\n",
    "              legend = True, \n",
    "              cmap = 'Set3');"
   ]
  },
  {
   "cell_type": "code",
   "execution_count": null,
   "id": "9cf94da7",
   "metadata": {},
   "outputs": [],
   "source": [
    "def hex_to_RGB(hex_str):\n",
    "    \"\"\" #FFFFFF -> [255,255,255]\"\"\"\n",
    "    #Pass 16 to the integer function for change of base\n",
    "    return [int(hex_str[i:i+2], 16) for i in range(1,6,2)]\n",
    "\n",
    "def get_color_gradient(c1, c2, n):\n",
    "    \"\"\"\n",
    "    Given two hex colors, returns a color gradient\n",
    "    with n colors.\n",
    "    \"\"\"\n",
    "    assert n > 1\n",
    "    c1_rgb = np.array(hex_to_RGB(c1))/255\n",
    "    c2_rgb = np.array(hex_to_RGB(c2))/255\n",
    "    mix_pcts = [x/(n-1) for x in range(n)]\n",
    "    rgb_colors = [((1-mix)*c1_rgb + (mix*c2_rgb)) for mix in mix_pcts]\n",
    "    return [\"#\" + \"\".join([format(int(round(val*255)), \"02x\") for val in item]) for item in rgb_colors]"
   ]
  },
  {
   "cell_type": "code",
   "execution_count": null,
   "id": "1b68b0ec",
   "metadata": {},
   "outputs": [],
   "source": [
    "poe_data.to_file('./data/poe_shapes.geojson', driver='GeoJSON')"
   ]
  },
  {
   "cell_type": "code",
   "execution_count": null,
   "id": "a537d445",
   "metadata": {},
   "outputs": [],
   "source": [
    "cog_G1= pd.crosstab(aeps['Program Name'], aeps['cog_G1.0'], normalize = \"index\")\n",
    "cog_G1"
   ]
  },
  {
   "cell_type": "code",
   "execution_count": null,
   "id": "f57e2dda",
   "metadata": {},
   "outputs": [],
   "source": [
    "cog_G1_region= pd.crosstab(aeps['TEIS Point of Entry Office (POE)'], aeps['cog_G1.0'], normalize = \"index\")\n",
    "cog_G1_region"
   ]
  },
  {
   "cell_type": "code",
   "execution_count": null,
   "id": "508fae00",
   "metadata": {},
   "outputs": [],
   "source": [
    "aeps['AssessID'] = pd.to_numeric(aeps['AssessID'], errors='coerce').fillna(0).astype(int)\n",
    "print (aeps)"
   ]
  },
  {
   "cell_type": "code",
   "execution_count": null,
   "id": "0be9040a",
   "metadata": {},
   "outputs": [],
   "source": [
    "region_total = aeps.groupby('TEIS Point of Entry Office (POE)').agg(\n",
    "                    op_count = ('AssessID', 'count'))\n",
    "region_total"
   ]
  },
  {
   "cell_type": "code",
   "execution_count": null,
   "id": "6d3381c9",
   "metadata": {},
   "outputs": [],
   "source": [
    "cog_combined = aeps.groupby('TEIS Point of Entry Office (POE)').agg(\n",
    "                    cog_D2_mean = ('cog_D2.0', 'mean'),\n",
    "                    cog_E2_mean = ('cog_E2.0', 'mean'),\n",
    "                    cog_E4_mean = ('cog_E4.0', 'mean'),\n",
    "                    cog_F1_mean = ('cog_F1.0', 'mean'),\n",
    "                    cog_G1_mean = ('cog_G1.0', 'mean'), \n",
    "                    cog_G2_mean = ('cog_G2.0', 'mean'),\n",
    "                    cog_G3_mean = ('cog_G3.0', 'mean'),\n",
    "                    cog_G4_mean = ('cog_G4.0', 'mean'),\n",
    "                    cog_G5_mean = ('cog_G5.0', 'mean'),\n",
    "                    cog_G6_mean = ('cog_G6.0', 'mean'))\n",
    "cog_combined"
   ]
  },
  {
   "cell_type": "code",
   "execution_count": null,
   "id": "7bc1ab37",
   "metadata": {},
   "outputs": [],
   "source": [
    "cog_combined['cog_avg'] = cog_combined.mean(axis=1)\n",
    "cog_combined"
   ]
  },
  {
   "cell_type": "code",
   "execution_count": null,
   "id": "a1e6e094",
   "metadata": {},
   "outputs": [],
   "source": [
    "cog_combined = cog_combined.reset_index()"
   ]
  },
  {
   "cell_type": "code",
   "execution_count": null,
   "id": "3070f2e2",
   "metadata": {},
   "outputs": [],
   "source": [
    "cog_combined.columns.values[0] = \"poe\""
   ]
  },
  {
   "cell_type": "code",
   "execution_count": null,
   "id": "8816baec",
   "metadata": {},
   "outputs": [],
   "source": [
    "cog_combined"
   ]
  },
  {
   "cell_type": "code",
   "execution_count": null,
   "id": "0755e32f",
   "metadata": {},
   "outputs": [],
   "source": [
    "cog_map = pd.merge(left = poe_data, right = cog_combined, \n",
    "                    on = 'poe')"
   ]
  },
  {
   "cell_type": "code",
   "execution_count": null,
   "id": "523b8112",
   "metadata": {},
   "outputs": [],
   "source": [
    "hex_to_RGB('#FFEAEA')"
   ]
  },
  {
   "cell_type": "code",
   "execution_count": null,
   "id": "a0738392",
   "metadata": {},
   "outputs": [],
   "source": [
    "cog_cmap = ListedColormap(['#F4F5FE', '#EAEBFE', '#E0E2FD', '#D5D8FD', '#CACEFD', '#C0C4FC', '#B5BBFB', '#ABB1FB', '#A1A7FA', '#969EFA', '#8B94FA', '#818AF9'])\n",
    "\n",
    "fig, ax = plt.subplots(figsize=(20,4))\n",
    "cog_map.plot(ax = ax, aspect = 1, column = 'cog_avg',\n",
    "              edgecolor = 'black',\n",
    "              legend = True, \n",
    "              cmap = cog_cmap)\n",
    "for index, row in cog_map.iterrows():    \n",
    "    plt.annotate(text=(row['poe'][:-10].rstrip()), \n",
    "                 xy=(row['geometry'].centroid.x, row['geometry'].centroid.y),\n",
    "                 horizontalalignment='center', fontweight = 'bold', fontname='Source Serif Pro', fontsize=12, color='k', bbox=dict(boxstyle=\"round\", fc=\"white\", ec=\"b\", lw=1))\n",
    "ax.axis('off')\n",
    "plt.title('Cognitive Assessment Average Scores by POE', fontweight='bold', fontsize=20, fontname='Source Serif Pro')\n",
    "plt.savefig('cog.png')"
   ]
  },
  {
   "cell_type": "code",
   "execution_count": null,
   "id": "78838205",
   "metadata": {},
   "outputs": [],
   "source": [
    "fmotor_combined = aeps.groupby('TEIS Point of Entry Office (POE)').agg(\n",
    "                    fm_B4_mean = ('fm_B4.0', 'mean'),\n",
    "                    fm_B5_mean = ('fm_B5.0', 'mean'))\n",
    "fmotor_combined['fm_avg'] = fmotor_combined.mean(axis=1)\n",
    "fmotor_combined = fmotor_combined.reset_index()\n",
    "fmotor_combined.columns.values[0] = 'poe'\n",
    "fmotor_combined"
   ]
  },
  {
   "cell_type": "code",
   "execution_count": null,
   "id": "7c06e8cf",
   "metadata": {},
   "outputs": [],
   "source": [
    "fm_map = pd.merge(left = poe_data, right = fmotor_combined, \n",
    "                    on = 'poe')"
   ]
  },
  {
   "cell_type": "code",
   "execution_count": null,
   "id": "fd7c988d",
   "metadata": {},
   "outputs": [],
   "source": [
    "fm_cmap = ListedColormap(['#FAFBFC', '#F1F3F5', '#E8EAEE', '#E0E2E7', '#D7DAE0', '#D2D5DD', '#CED1D9', '#C9CDD6', '#B8BCC4', '#A7ABB2', '#979AA1', '#86898F'])\n",
    "\n",
    "fig, ax = plt.subplots(figsize=(20,4))\n",
    "fm_map.plot(ax = ax, aspect = 1, column = 'fm_avg',\n",
    "              edgecolor = 'black',\n",
    "              legend = True, \n",
    "              cmap = fm_cmap)\n",
    "for index, row in cog_map.iterrows():    \n",
    "    plt.annotate(text=(row['poe'][:-10].rstrip()), \n",
    "                 xy=(row['geometry'].centroid.x, row['geometry'].centroid.y),\n",
    "                 horizontalalignment='center', fontweight = 'bold', fontname='Source Serif Pro', fontsize=12, color='k', bbox=dict(boxstyle=\"round\", fc=\"white\", ec=\"b\", lw=1))\n",
    "ax.axis('off')\n",
    "plt.title('Fine Motor Assessment Average Scores by POE', fontweight='bold', fontsize=20, fontname='Source Serif Pro')\n",
    "plt.savefig('fm.png')"
   ]
  },
  {
   "cell_type": "code",
   "execution_count": null,
   "id": "0a019114",
   "metadata": {},
   "outputs": [],
   "source": [
    "soc_com_combined = aeps.groupby('TEIS Point of Entry Office (POE)').agg(\n",
    "                    sc_B1_mean = ('sc_B1.0', 'mean'),\n",
    "                    sc_B2_mean = ('sc_B2.0', 'mean'),\n",
    "                    sc_D1_mean = ('sc_D1.0', 'mean'),\n",
    "                    sc_D2_mean = ('sc_D2.0', 'mean'),\n",
    "                    sc_D3_mean = ('sc_D3.0', 'mean'))\n",
    "soc_com_combined['sc_avg'] = soc_com_combined.mean(axis=1)\n",
    "soc_com_combined = soc_com_combined.reset_index()\n",
    "soc_com_combined.columns.values[0] = 'poe'\n",
    "soc_com_combined"
   ]
  },
  {
   "cell_type": "code",
   "execution_count": null,
   "id": "44d0681f",
   "metadata": {},
   "outputs": [],
   "source": [
    "soc_com_map = pd.merge(left = poe_data, right = soc_com_combined, \n",
    "                    on = 'poe')"
   ]
  },
  {
   "cell_type": "code",
   "execution_count": null,
   "id": "879bdb64",
   "metadata": {},
   "outputs": [],
   "source": [
    "sc_cmap  = ListedColormap(['#EEF0F2', '#DEE0E6', '#CED1D9', '#BDC2CD', '#ADB2C0', '#9CA3B4', '#8B94A7', '#7B849A', '#6B758E', '#5A6681', '#4A5675', '#394768'])\n",
    "\n",
    "fig, ax = plt.subplots(figsize=(20,4))\n",
    "soc_com_map.plot(ax = ax, aspect = 1, column = 'sc_avg',\n",
    "              edgecolor = 'black',\n",
    "              legend = True, \n",
    "              cmap = sc_cmap)\n",
    "for index, row in cog_map.iterrows():    \n",
    "    plt.annotate(text=(row['poe'][:-10].rstrip()), \n",
    "                 xy=(row['geometry'].centroid.x, row['geometry'].centroid.y),\n",
    "                 horizontalalignment='center', fontweight = 'bold', fontname='Source Serif Pro', color='k', fontsize=12, bbox=dict(boxstyle=\"round\", fc=\"white\", ec=\"b\", lw=1))\n",
    "ax.axis('off')\n",
    "plt.title('Social-Communication Assessment Average Scores by POE', fontweight='bold', fontsize=20, fontname='Source Serif Pro')\n",
    "plt.savefig('soc_com.png')"
   ]
  },
  {
   "cell_type": "code",
   "execution_count": null,
   "id": "12e1d01a",
   "metadata": {},
   "outputs": [],
   "source": [
    "total = [cog_combined, fmotor_combined, soc_com_combined]\n",
    "super = pd.concat(total, axis=1, join='inner')"
   ]
  },
  {
   "cell_type": "code",
   "execution_count": null,
   "id": "40f57abc",
   "metadata": {},
   "outputs": [],
   "source": [
    "super = super[['sc_avg', 'cog_avg', 'fm_avg', 'poe']]"
   ]
  },
  {
   "cell_type": "code",
   "execution_count": null,
   "id": "1afe78ff",
   "metadata": {},
   "outputs": [],
   "source": [
    "super['weighted_score'] = super['sc_avg']*(5/17) + super['cog_avg']*(10/17) + super['fm_avg']*(2/17)\n",
    "super = super.loc[:, ~super.columns.duplicated()]\n",
    "super"
   ]
  },
  {
   "cell_type": "code",
   "execution_count": null,
   "id": "3635f98b",
   "metadata": {},
   "outputs": [],
   "source": [
    "super_map = pd.merge(left = poe_data, right = super, \n",
    "                    on = 'poe')"
   ]
  },
  {
   "cell_type": "code",
   "execution_count": null,
   "id": "1cea3e30",
   "metadata": {},
   "outputs": [],
   "source": [
    "combined_cmap = ListedColormap([\"#FFEAEA\", \"#FFd4d4\", \"#FFbfbf\", '#ffaaaa', '#ff9595', '#ff8080', '#ff6a6a', '#ff5555', '#ff4040', '#ff2b2b', \"#ff0000\"])\n",
    "\n",
    "fig, ax = plt.subplots(figsize=(20,4))\n",
    "super_map.plot(ax = ax, aspect = 1, column = 'weighted_score',\n",
    "              edgecolor = 'black',\n",
    "              legend = True, \n",
    "              cmap = combined_cmap)\n",
    "for index, row in cog_map.iterrows():    \n",
    "    plt.annotate(text=(row['poe'][:-10].rstrip()), \n",
    "                 xy=(row['geometry'].centroid.x, row['geometry'].centroid.y),\n",
    "                 horizontalalignment='center', fontweight = 'bold', fontname='Source Serif Pro', fontsize=12, color='k', bbox=dict(boxstyle=\"round\", fc=\"white\", ec=\"r\", lw=1))\n",
    "ax.axis('off')\n",
    "plt.title('Overall Average Assessment Scores by POE', fontweight='bold', fontsize=20, fontname='Source Serif Pro')\n",
    "plt.savefig('super.png')"
   ]
  },
  {
   "cell_type": "code",
   "execution_count": null,
   "id": "56e851ba",
   "metadata": {},
   "outputs": [],
   "source": [
    "region_total = aeps.groupby('TEIS Point of Entry Office (POE)').agg(\n",
    "                    op_count = ('AssessID', 'count')).reset_index()\n",
    "region_total"
   ]
  },
  {
   "cell_type": "code",
   "execution_count": null,
   "id": "c67e3b13",
   "metadata": {},
   "outputs": [],
   "source": [
    "region_total['percent_total'] = region_total['op_count'] / region_total['op_count'].sum()\n",
    "region_total.columns.values[0] = 'poe'\n",
    "region_total"
   ]
  },
  {
   "cell_type": "code",
   "execution_count": null,
   "id": "41ce2488",
   "metadata": {},
   "outputs": [],
   "source": [
    "statewide = pd.merge(super, region_total, on = 'poe')\n",
    "statewide"
   ]
  },
  {
   "cell_type": "code",
   "execution_count": null,
   "id": "e600e3e0",
   "metadata": {},
   "outputs": [],
   "source": [
    "statewide['state_impact']= super['weighted_score'] * region_total['percent_total']\n",
    "statewide"
   ]
  },
  {
   "cell_type": "code",
   "execution_count": null,
   "id": "c82d93ea",
   "metadata": {},
   "outputs": [],
   "source": [
    "statewide['final_score'] = 100 * (statewide['state_impact']/statewide['state_impact'].sum())\n",
    "statewide"
   ]
  },
  {
   "cell_type": "code",
   "execution_count": null,
   "id": "a32e00f8",
   "metadata": {},
   "outputs": [],
   "source": [
    "statewide_map = pd.merge(left = poe_data, right = statewide, \n",
    "                    on = 'poe')"
   ]
  },
  {
   "cell_type": "code",
   "execution_count": null,
   "id": "c802627f",
   "metadata": {},
   "outputs": [],
   "source": [
    "fig, ax = plt.subplots(figsize=(20,4))\n",
    "statewide_map.plot(ax = ax, aspect = 1, column = 'final_score',\n",
    "              edgecolor = 'black',\n",
    "              legend = True, \n",
    "              cmap = combined_cmap)\n",
    "ax.axis('off')\n",
    "plt.title('statewide', fontweight='bold', fontsize=20, fontname='Source Serif Pro')\n",
    "plt.savefig('statewide.png')"
   ]
  },
  {
   "cell_type": "code",
   "execution_count": null,
   "id": "e513ec6c",
   "metadata": {},
   "outputs": [],
   "source": []
  }
 ],
 "metadata": {
  "kernelspec": {
   "display_name": "Python 3 (ipykernel)",
   "language": "python",
   "name": "python3"
  },
  "language_info": {
   "codemirror_mode": {
    "name": "ipython",
    "version": 3
   },
   "file_extension": ".py",
   "mimetype": "text/x-python",
   "name": "python",
   "nbconvert_exporter": "python",
   "pygments_lexer": "ipython3",
   "version": "3.9.12"
  }
 },
 "nbformat": 4,
 "nbformat_minor": 5
}
