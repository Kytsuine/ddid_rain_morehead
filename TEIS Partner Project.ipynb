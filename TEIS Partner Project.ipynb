{
 "cells": [
  {
   "cell_type": "code",
   "execution_count": null,
   "id": "c2eed42a",
   "metadata": {},
   "outputs": [],
   "source": [
    "import pandas as pd\n",
    "import matplotlib.pyplot as plt\n",
    "%matplotlib inline\n",
    "pd.set_option('display.max_columns', None) ## Removes the ellipsis hiding some columns. Will cause scrolling."
   ]
  },
  {
   "cell_type": "code",
   "execution_count": null,
   "id": "30bb7c37",
   "metadata": {},
   "outputs": [],
   "source": [
    "#tn_trends_by_ss = pd.read_excel('./AEPSi Data for NSS.xlsx')\n",
    "#tn_trends_by_ss.head()"
   ]
  },
  {
   "cell_type": "code",
   "execution_count": null,
   "id": "40d899b2",
   "metadata": {},
   "outputs": [],
   "source": [
    "#aeps_to_eco_crosswalk = pd.read_excel('./AEPSi Data for NSS.xlsx', 1)\n",
    "#aeps_to_eco_crosswalk.head()"
   ]
  },
  {
   "cell_type": "code",
   "execution_count": null,
   "id": "d16b128e",
   "metadata": {},
   "outputs": [],
   "source": [
    "#poe_data_20_21 = pd.read_excel('./AEPSi Data for NSS.xlsx', 3)\n",
    "#poe_data_20_21.head()"
   ]
  },
  {
   "cell_type": "code",
   "execution_count": null,
   "id": "a28528a4",
   "metadata": {},
   "outputs": [],
   "source": [
    "#eco_with_exit_20_21 = pd.read_excel('./AEPSi Data for NSS.xlsx', 4)\n",
    "#eco_with_exit_20_21.head()"
   ]
  },
  {
   "cell_type": "code",
   "execution_count": null,
   "id": "b099ebbb",
   "metadata": {},
   "outputs": [],
   "source": [
    "#poe_data_21_22 = pd.read_excel('./AEPSi Data for NSS.xlsx', 5)\n",
    "#poe_data_21_22.head()"
   ]
  },
  {
   "cell_type": "code",
   "execution_count": null,
   "id": "7a8801a9",
   "metadata": {},
   "outputs": [],
   "source": [
    "#eco_with_exit_21_22 = pd.read_excel('./AEPSi Data for NSS.xlsx', 6)\n",
    "#eco_with_exit_21_22.head()"
   ]
  },
  {
   "cell_type": "code",
   "execution_count": null,
   "id": "9545041b",
   "metadata": {
    "scrolled": false
   },
   "outputs": [],
   "source": [
    "aeps = pd.read_excel(\n",
    "    \"./data/AEPSi Data for NSS.xlsx\",\n",
    "    2,\n",
    "    usecols=[\n",
    "        \"Child ID\",\n",
    "        \"Program Name\",\n",
    "        \"AEPSi ID\",\n",
    "        \"AssessID\",\n",
    "        \"Gender\",\n",
    "        \"Dev Status\",\n",
    "        \"AEPS Level\",\n",
    "        \"DOB\",\n",
    "        \"Test Date\",\n",
    "        \"Examiner\",\n",
    "        \"Service Coordinator\",\n",
    "        \"TEIS Point of Entry Office (POE)\",\n",
    "        \"ESL\",\n",
    "        \"County of Residence\",\n",
    "        \"Number of Items\",\n",
    "        \"fm_B4.0\",\n",
    "        \"fm_B5.0\",\n",
    "        \"cog_D2.0\",\n",
    "        \"cog_E2.0\",\n",
    "        \"cog_E4.0\",\n",
    "        \"cog_F1.0\",\n",
    "        \"cog_G1.0\",\n",
    "        \"cog_G2.0\",\n",
    "        \"cog_G3.0\",\n",
    "        \"cog_G4.0\",\n",
    "        \"cog_G5.0\",\n",
    "        \"cog_G6.0\",\n",
    "        \"sc_B1.0\",\n",
    "        \"sc_B2.0\",\n",
    "        \"sc_D1.0\",\n",
    "        \"sc_D2.0\",\n",
    "        \"sc_D3.0\",\n",
    "        \"FM Raw Score\",\n",
    "        \"FM Possible Score\",\n",
    "        \"FM Percentage\",\n",
    "        \"Cog Raw Score\",\n",
    "        \"Cog Possible Score\",\n",
    "        \"Cog Percentage\",\n",
    "        \"SC Raw Score\",\n",
    "        \"SC Possible Score\",\n",
    "        \"SC Percentage\"], \n",
    "    parse_dates = False) ## Big tall ugly command cuts down columns to just the ones we might need. \n",
    "aeps.head()"
   ]
  },
  {
   "cell_type": "code",
   "execution_count": null,
   "id": "84f4e840",
   "metadata": {},
   "outputs": [],
   "source": [
    "#aeps_temp = aeps\n",
    "#aeps = aeps_temp\n",
    "#Use as needed in testing to avoid re-importing the excel sheet. Avoids long datetime conversion."
   ]
  },
  {
   "cell_type": "code",
   "execution_count": null,
   "id": "492d2227",
   "metadata": {},
   "outputs": [],
   "source": [
    "#aeps.iloc[17774]\n",
    "#aeps.head()\n",
    "# A bit more exploration that isn't needed or relevant."
   ]
  },
  {
   "cell_type": "code",
   "execution_count": null,
   "id": "977a5e1a",
   "metadata": {},
   "outputs": [],
   "source": [
    "aeps = aeps.applymap(lambda x: x.strip() if isinstance(x, str) else x) ## Strips all strings in dataframe\n",
    "aeps = aeps.drop(aeps.index[17926:17959]) ## Removes empty and illogical child id's at end of dataframe\n",
    "aeps = aeps.drop([0, 7, 1393, 17774]) ## Removes a few more illogical child id's and one row full of null values"
   ]
  },
  {
   "cell_type": "code",
   "execution_count": null,
   "id": "eea35d3f",
   "metadata": {},
   "outputs": [],
   "source": [
    "aeps['child_id'] = aeps['Child ID'].astype(int)"
   ]
  },
  {
   "cell_type": "code",
   "execution_count": null,
   "id": "6ab83e97",
   "metadata": {},
   "outputs": [],
   "source": [
    "aeps['dob'] = pd.to_datetime(aeps['DOB'], errors='coerce') ## errors='coerce' causes errors to be entered as 'NaT'\n",
    "aeps['test_date'] = pd.to_datetime(aeps['Test Date'], errors='coerce')"
   ]
  },
  {
   "cell_type": "code",
   "execution_count": null,
   "id": "860d5d2a",
   "metadata": {},
   "outputs": [],
   "source": []
  },
  {
   "cell_type": "code",
   "execution_count": null,
   "id": "028871b7",
   "metadata": {},
   "outputs": [],
   "source": []
  },
  {
   "cell_type": "code",
   "execution_count": null,
   "id": "94066315",
   "metadata": {},
   "outputs": [],
   "source": []
  },
  {
   "cell_type": "code",
   "execution_count": null,
   "id": "ec44be05",
   "metadata": {},
   "outputs": [],
   "source": []
  }
 ],
 "metadata": {
  "kernelspec": {
   "display_name": "Python 3 (ipykernel)",
   "language": "python",
   "name": "python3"
  },
  "language_info": {
   "codemirror_mode": {
    "name": "ipython",
    "version": 3
   },
   "file_extension": ".py",
   "mimetype": "text/x-python",
   "name": "python",
   "nbconvert_exporter": "python",
   "pygments_lexer": "ipython3",
   "version": "3.9.12"
  }
 },
 "nbformat": 4,
 "nbformat_minor": 5
}
